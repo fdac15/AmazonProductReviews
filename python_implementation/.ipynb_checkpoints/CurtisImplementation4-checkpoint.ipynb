{
 "cells": [
  {
   "cell_type": "markdown",
   "metadata": {},
   "source": [
    "##Scraping Reviews"
   ]
  },
  {
   "cell_type": "markdown",
   "metadata": {},
   "source": [
    "##Class"
   ]
  },
  {
   "cell_type": "code",
   "execution_count": 1,
   "metadata": {
    "collapsed": true
   },
   "outputs": [],
   "source": [
    "import re,csv,requests,time\n",
    "from bs4 import BeautifulSoup\n",
    "\n",
    "# Holds all information on a review\n",
    "class Review:\n",
    "    def __init__(self):\n",
    "        self.reviewerName = \"none\"\n",
    "        self.Rating = \"none\"\n",
    "        self.Summary = \"none\"\n",
    "        self.Description = \"none\"\n",
    "        self.reviewerUrl = \"none\"\n",
    "        self.dateReviewed = \"none\"\n",
    "        self.itemNo = \"none\"\n",
    "        self.itemTitle = \"none\"\n",
    "        self.itemCategory = \"none\"\n",
    "        self.itemUrl = \"none\"\n",
    "        self.itemBrand = \"none\"\n",
    "        self.itemPrice = \"none\""
   ]
  },
  {
   "cell_type": "markdown",
   "metadata": {},
   "source": [
    "##Function"
   ]
  },
  {
   "cell_type": "code",
   "execution_count": 2,
   "metadata": {
    "collapsed": false
   },
   "outputs": [],
   "source": [
    "# Returns instance of Review class\n",
    "def get_review(url):\n",
    "\n",
    "    # Reviewer Item Review Page\n",
    "    try:\n",
    "        response = requests.get(url)\n",
    "    except Exception as e:\n",
    "        print(str(e))\n",
    "        return Review()\n",
    "    \n",
    "    soup = BeautifulSoup(response.text, 'html.parser')\n",
    "\n",
    "    # Grab the html from the specific review\n",
    "    review_page = soup.find(\"div\", {\"class\": \"hReview\"})\n",
    "\n",
    "    # Initialize class\n",
    "    review = Review()\n",
    "\n",
    "    # Get Reviewer Info\n",
    "    try:\n",
    "        review.reviewerName = review_page.find('span', {\"class\": \"reviewer vcard\"}).find(\"a\", {\"class\": \"url fn\"}).string\n",
    "        review.Rating = review_page.find('ul').find(\"li\", {\"class\": \"rating\"}).find(\"abbr\", {\"class\": \"value\"}).get(\"title\")\n",
    "        review.Summary = ' '.join(review_page.find('span', {\"class\": \"summary\"}).string.split())\n",
    "        review.Description = ' '.join(review_page.find('span', {\"class\": \"description\"}).get_text().split())\n",
    "        review.reviewerUrl = \"http://www.amazon.com\" + review_page.find('span', {\"class\": \"reviewer vcard\"}).find(\"a\").get('href')\n",
    "        review.dateReviewed = review_page.find('abbr', {\"class\": \"dtreviewed\"}).string\n",
    "    except AttributeError:\n",
    "        print(\"incomplete review info,\",end=\"\")\n",
    "\n",
    "    # Get Item Info\n",
    "    try:\n",
    "        review.itemNo = review_page.find('abbr', {\"class\": \"asin\"}).string\n",
    "        review.itemTitle = review_page.find('abbr', {\"class\": \"title\"}).string\n",
    "        review.itemCategory = review_page.find('abbr', {\"class\": \"category\"}).string\n",
    "        review.itemUrl = review_page.find('span', {\"class\": \"item\"}).find(\"a\").get('href')\n",
    "        review.itemPrice = soup.find('span', {\"class\": \"price\"}).string\n",
    "        review.itemBrand = review_page.find('abbr', {\"class\": \"brand\"}).string\n",
    "    except AttributeError:\n",
    "        if review.itemBrand == 'none':\n",
    "            print(\"incomplete item info (brand),\",end=\"\")\n",
    "        else:\n",
    "            print(\"incomplete item info,\",end=\"\")\n",
    "\n",
    "    return review"
   ]
  },
  {
   "cell_type": "markdown",
   "metadata": {},
   "source": [
    "##Driver\n",
    "####MUST RUN ABOVE CODE FIRST!!!!"
   ]
  },
  {
   "cell_type": "code",
   "execution_count": null,
   "metadata": {
    "collapsed": false
   },
   "outputs": [
    {
     "name": "stdout",
     "output_type": "stream",
     "text": [
      "incomplete item info (brand),incomplete item info (brand),"
     ]
    }
   ],
   "source": [
    "#Driver\n",
    "with open('/home/jhughe39/AmazonProductReviews/python_implementation/reviews4.csv', 'w', newline='') as csvfile:\n",
    "\n",
    "    # header for csv file\n",
    "    fn = ['reviewerName', 'reviewerUrl', 'itemNo', 'itemTitle', 'itemUrl', 'itemBrand', 'itemPrice',\n",
    "          'itemCategory', 'dateReviewed', 'Rating', 'Summary', 'Description']\n",
    "\n",
    "    # open csv file for writing\n",
    "    reviewWriter = csv.DictWriter(csvfile, delimiter=',', fieldnames=fn)\n",
    "    reviewWriter.writeheader()\n",
    "\n",
    "    f = open(\"/home/jhughe39/AmazonProductReviews/python_implementation/ReviewURLs.txt\",\"r\")\n",
    "    \n",
    "    for url in f:\n",
    "        review = get_review(url)\n",
    "        time.sleep(3)\n",
    "        if review.itemNo != 'none' and review.reviewerUrl != 'none':\n",
    "            reviewWriter.writerow(review.__dict__)"
   ]
  },
  {
   "cell_type": "code",
   "execution_count": null,
   "metadata": {
    "collapsed": true
   },
   "outputs": [],
   "source": []
  }
 ],
 "metadata": {
  "kernelspec": {
   "display_name": "Python 3",
   "language": "python",
   "name": "python3"
  },
  "language_info": {
   "codemirror_mode": {
    "name": "ipython",
    "version": 3
   },
   "file_extension": ".py",
   "mimetype": "text/x-python",
   "name": "python",
   "nbconvert_exporter": "python",
   "pygments_lexer": "ipython3",
   "version": "3.4.0"
  }
 },
 "nbformat": 4,
 "nbformat_minor": 0
}
