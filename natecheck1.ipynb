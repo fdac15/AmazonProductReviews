{
 "cells": [
  {
   "cell_type": "code",
   "execution_count": null,
   "metadata": {
    "collapsed": false,
    "scrolled": false
   },
   "outputs": [
    {
     "name": "stdout",
     "output_type": "stream",
     "text": [
      "RUNNING\n",
      "80\n",
      "incomplete review info\n",
      "incomplete item info itemNo: none itemTitle: none itemCategory: none itemUrl: none itemBrand: none itemPrice: none\n",
      "incomplete item info itemNo: B015FGPXZK itemTitle: QC2.0 USB Multimeter, AmorTek J7-D USB Voltage/Amps Power Meter Tester Multimeter Test speed of chargers, cables, capacity of power banks with Timer, Suitable for 5V - 15V Devices itemCategory: Home Improvement itemUrl: http://www.amazon.com/gp/product/B015FGPXZK itemBrand: none itemPrice: none\n",
      "incomplete review info\n",
      "incomplete item info itemNo: none itemTitle: none itemCategory: none itemUrl: none itemBrand: none itemPrice: none\n",
      "incomplete review info\n",
      "incomplete item info itemNo: none itemTitle: none itemCategory: none itemUrl: none itemBrand: none itemPrice: none\n",
      "incomplete review info\n",
      "incomplete item info itemNo: none itemTitle: none itemCategory: none itemUrl: none itemBrand: none itemPrice: none\n",
      "incomplete item info itemNo: B011KKCQH8 itemTitle: Ex Machina itemCategory: Amazon Video itemUrl: http://www.amazon.com/gp/product/B011KKCQH8 itemBrand: none itemPrice: none\n",
      "incomplete item info itemNo: B00Z7SXR0K itemTitle: OtterBox DEFENDER iPhone 6 Plus/6s Plus Case - Frustration-Free Packaging - INDIGO HARBOR (ROYAL BLUE/ADMIRAL BLUE) itemCategory: Cell Phones & Accessories itemUrl: http://www.amazon.com/gp/product/B00Z7SXR0K itemBrand: none itemPrice: none\n",
      "incomplete review info\n",
      "incomplete item info itemNo: none itemTitle: none itemCategory: none itemUrl: none itemBrand: none itemPrice: none\n",
      "incomplete review info\n",
      "incomplete item info itemNo: none itemTitle: none itemCategory: none itemUrl: none itemBrand: none itemPrice: none\n",
      "incomplete item info itemNo: B015O6OZUA itemTitle: Pitch Perfect 2 itemCategory: Amazon Video itemUrl: http://www.amazon.com/gp/product/B015O6OZUA itemBrand: none itemPrice: none\n",
      "incomplete item info itemNo: B00PK30MVE itemTitle: iPhone 6s Plus Case, Anker Ultra Protective Case With Built-in Clear Screen Protector for iPhone 6 Plus / iPhone 6s Plus (5.5 inch) Drop-Tested, Dust Proof Design (Black/Grey) itemCategory: Cell Phones & Accessories itemUrl: http://www.amazon.com/gp/product/B00PK30MVE itemBrand: none itemPrice: none\n",
      "incomplete item info itemNo: B001ANXNTQ itemTitle: Jensen In-Line Coupler - White itemCategory: Electronics itemUrl: http://www.amazon.com/gp/product/B001ANXNTQ itemBrand: none itemPrice: $0.01\n",
      "incomplete review info\n",
      "incomplete item info itemNo: none itemTitle: none itemCategory: none itemUrl: none itemBrand: none itemPrice: none\n",
      "incomplete review info\n",
      "incomplete item info itemNo: none itemTitle: none itemCategory: none itemUrl: none itemBrand: none itemPrice: none\n",
      "incomplete item info itemNo: B0110EKTUU itemTitle: Chefs Knife 8-inch by Zelite Infinity. Best Quality Japanese VG10 Super Steel 67 Layer High Carbon Stainless Steel-Razor Sharp, Superb Edge Retention, Stain & Corrosion Resistant! Full Tang Ideal Gift itemCategory: Kitchen & Dining itemUrl: http://www.amazon.com/gp/product/B0110EKTUU itemBrand: none itemPrice: $99.97\n",
      "incomplete review info\n",
      "incomplete item info itemNo: none itemTitle: none itemCategory: none itemUrl: none itemBrand: none itemPrice: none\n",
      "incomplete item info itemNo: B012N6ILU4 itemTitle: Prelude to War (The Human Chronicles Saga Book 10) itemCategory: Kindle Store itemUrl: http://www.amazon.com/gp/product/B012N6ILU4 itemBrand: none itemPrice: $4.98\n",
      "incomplete review info\n",
      "incomplete item info itemNo: none itemTitle: none itemCategory: none itemUrl: none itemBrand: none itemPrice: none\n",
      "incomplete review info\n",
      "incomplete item info itemNo: none itemTitle: none itemCategory: none itemUrl: none itemBrand: none itemPrice: none\n",
      "incomplete review info\n",
      "incomplete item info itemNo: none itemTitle: none itemCategory: none itemUrl: none itemBrand: none itemPrice: none\n",
      "incomplete review info\n",
      "incomplete item info itemNo: none itemTitle: none itemCategory: none itemUrl: none itemBrand: none itemPrice: none\n",
      "incomplete review info\n",
      "incomplete item info itemNo: none itemTitle: none itemCategory: none itemUrl: none itemBrand: none itemPrice: none\n",
      "60"
     ]
    }
   ],
   "source": [
    "from get_review_info import get_review\n",
    "from get_review_urls import get_urls\n",
    "import time\n",
    "import csv\n",
    "\n",
    "print(\"RUNNING\")\n",
    "g = 0 \n",
    "t = 0\n",
    "ends = []\n",
    "urls = []\n",
    "uid = []\n",
    "for line in open('reviewers_1.txt'):\n",
    "    sline = line.split(',')\n",
    "    t = t +1\n",
    "    \n",
    "    if(sline[-1] == '\"Nate\"\\n'):\n",
    "        ends.append(sline[4])\n",
    "        b = sline[2] \n",
    "        uid.append(b[1:-1])\n",
    "t = 0 \n",
    "urls = []\n",
    "\n",
    "for a in ends:\n",
    "    \n",
    "    urls.append('http://www.amazon.com/gp/cdp/member-reviews/' + uid[t] + '?ie=UTF8&display=public&page=1&sort_by=MostRecentReview')\n",
    "\n",
    "    t = t+1\n",
    "\n",
    "\n",
    "t = 0\n",
    "ndat = open(\"newdata2.txt\", \"w\")\n",
    "ndat.write(\"reviewerName| reviewerID| Rating| Summary| Description| reviewerUrl| dateReviewed| itemNo| itemTitle| itemCategory| itemUrl| itemBrand| itemPrice\")\n",
    "ndat.write('\\n')\n",
    "for a in urls:     \n",
    "    b = get_urls(a)\n",
    "    print(len(b))        \n",
    "    for url in b:\n",
    "        review = get_review(url, uid[t])\n",
    "        dstr = str(review.reviewerName) + '|' +  str(review.reviewerID) +'|' + str(review.Rating) + '|' +str(review.Summary) +'|' + str(review.Description)  +'|' + str(review.reviewerUrl) + '|' +str(review.dateReviewed) + '|' +str(review.itemNo) + '|' +str( review.itemTitle) +'|' + str(review.itemCategory) + '|' +str(review.itemUrl) + '|' +str(review.itemBrand) + '|' +str(review.itemPrice)       \n",
    "        ndat.write(dstr)\n",
    "        ndat.write('\\n')\n",
    "        \n",
    "    t = t + 1\n",
    "    \n",
    "ndat.close()    "
   ]
  },
  {
   "cell_type": "code",
   "execution_count": null,
   "metadata": {
    "collapsed": true
   },
   "outputs": [],
   "source": [
    "print(\"RUNNING\")"
   ]
  },
  {
   "cell_type": "code",
   "execution_count": null,
   "metadata": {
    "collapsed": true
   },
   "outputs": [],
   "source": []
  }
 ],
 "metadata": {
  "kernelspec": {
   "display_name": "Python 3",
   "language": "python",
   "name": "python3"
  },
  "language_info": {
   "codemirror_mode": {
    "name": "ipython",
    "version": 3
   },
   "file_extension": ".py",
   "mimetype": "text/x-python",
   "name": "python",
   "nbconvert_exporter": "python",
   "pygments_lexer": "ipython3",
   "version": "3.4.0"
  }
 },
 "nbformat": 4,
 "nbformat_minor": 0
}
